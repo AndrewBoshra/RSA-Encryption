{
 "cells": [
  {
   "cell_type": "code",
   "execution_count": 4,
   "metadata": {},
   "outputs": [],
   "source": [
    "import numpy as np\n",
    "import time\n",
    "from Crypto.Util import number\n",
    "import RSA\n"
   ]
  },
  {
   "cell_type": "code",
   "execution_count": 5,
   "metadata": {},
   "outputs": [],
   "source": [
    "def BFA(n, e):\n",
    "    p = 2\n",
    "    while(n%p != 0):\n",
    "        p +=1\n",
    "    q = n/p\n",
    "    phi = (p-1)*(q-1)\n",
    "    d = RSA.InvertModulo(e, phi)\n",
    "    return p, q, d"
   ]
  },
  {
   "cell_type": "code",
   "execution_count": 29,
   "metadata": {},
   "outputs": [],
   "source": [
    "#generate prime numbers from size 8 bits all way up to 50 bits\n",
    "#this function genarated primes numbers between two given number of bits\n",
    "def genPrimes(start, end):\n",
    "    if (start > end):\n",
    "        temp = start\n",
    "        start = end\n",
    "        end = temp\n",
    "    primesArray = []\n",
    "    for j in range(start , end+1 , 2):\n",
    "        primesArray.append(number.getPrime(j))\n",
    "    return np.array(primesArray)"
   ]
  },
  {
   "cell_type": "code",
   "execution_count": 38,
   "metadata": {},
   "outputs": [],
   "source": [
    "P = genPrimes(8, 50)\n",
    "Q = genPrimes(8, 50)\n",
    "N = P * Q"
   ]
  },
  {
   "cell_type": "code",
   "execution_count": 10,
   "metadata": {},
   "outputs": [
    {
     "name": "stdout",
     "output_type": "stream",
     "text": [
      "3 11.0 3.0\n"
     ]
    }
   ],
   "source": [
    "def\n",
    "    \n"
   ]
  },
  {
   "cell_type": "code",
   "execution_count": null,
   "metadata": {},
   "outputs": [],
   "source": []
  }
 ],
 "metadata": {
  "interpreter": {
   "hash": "ea5bba8542f00edb33a2f2c19a65eca468aab768572c539b683c40a8df122633"
  },
  "kernelspec": {
   "display_name": "Python 3.9.12 ('base')",
   "language": "python",
   "name": "python3"
  },
  "language_info": {
   "codemirror_mode": {
    "name": "ipython",
    "version": 3
   },
   "file_extension": ".py",
   "mimetype": "text/x-python",
   "name": "python",
   "nbconvert_exporter": "python",
   "pygments_lexer": "ipython3",
   "version": "3.9.12"
  },
  "orig_nbformat": 4
 },
 "nbformat": 4,
 "nbformat_minor": 2
}
