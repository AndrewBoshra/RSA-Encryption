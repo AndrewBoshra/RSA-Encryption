{
 "cells": [
  {
   "cell_type": "code",
   "execution_count": 16,
   "metadata": {},
   "outputs": [],
   "source": [
    "import numpy as np\n",
    "import time\n",
    "from Crypto.Util import number\n",
    "import RSA"
   ]
  },
  {
   "cell_type": "code",
   "execution_count": 17,
   "metadata": {},
   "outputs": [],
   "source": [
    "def BFA(n, e):\n",
    "    p = 2\n",
    "    while(n%p != 0):\n",
    "        p +=1\n",
    "    q = n/p\n",
    "    phi = (p-1)*(q-1)\n",
    "    d = RSA.InvertModulo(e, phi)\n",
    "    return p, q, d"
   ]
  },
  {
   "cell_type": "code",
   "execution_count": 32,
   "metadata": {},
   "outputs": [],
   "source": [
    "#generate prime numbers from size 8 bits all way up to 50 bits\n",
    "#this function genarated primes numbers between two given number of bits\n",
    "def genPrimes(start, end, step):\n",
    "    if (start > end):\n",
    "        temp = start\n",
    "        start = end\n",
    "        end = temp\n",
    "    primesArray = []\n",
    "    for j in range(start , end+1 , step):\n",
    "        primesArray.append(number.getPrime(j))\n",
    "    return np.array(primesArray)"
   ]
  },
  {
   "cell_type": "code",
   "execution_count": 34,
   "metadata": {},
   "outputs": [
    {
     "name": "stdout",
     "output_type": "stream",
     "text": [
      "[            211             877            2609            8741\n",
      "           49019          193261          639083         3965659\n",
      "         9061387        42062347       138259711      1061830043\n",
      "      3120995783     13997900617     59756733767    151509698959\n",
      "    905691561767   4396535451589  15823259360981  41266467973961\n",
      " 159134742219073 875138744606647] [            211             719            3527           11887\n",
      "           41777          261431          689891         2263619\n",
      "        11451071        48808817       181381843       989020561\n",
      "      2342938601     11130992479     55573807837    205796830381\n",
      "    735505981169   2995202372003  14938244128117  66220500403231\n",
      " 233554473929899 898769260339891] (22,)\n"
     ]
    }
   ],
   "source": [
    "P = genPrimes(8, 50, 2)\n",
    "Q = genPrimes(8, 50, 2)\n",
    "E = genPrimes(4, 25, 1)\n",
    "print(P, Q, E.shape)\n",
    "N = P * Q"
   ]
  },
  {
   "cell_type": "code",
   "execution_count": 35,
   "metadata": {},
   "outputs": [
    {
     "name": "stdout",
     "output_type": "stream",
     "text": [
      "211 211.0\n",
      "0.000232696533203125\n",
      "719 877.0\n",
      "0.00033283233642578125\n",
      "2609 3527.0\n",
      "0.001104593276977539\n",
      "8741 11887.0\n",
      "0.0036401748657226562\n",
      "41777 49019.0\n",
      "0.09084582328796387\n",
      "193261 261431.0\n",
      "0.15124845504760742\n",
      "639083 689891.0\n",
      "0.30152058601379395\n",
      "2263619 3965659.0\n",
      "0.8991262912750244\n",
      "9061387 11451071.0\n",
      "3.7003252506256104\n",
      "42062347 48808817.0\n",
      "17.380391597747803\n"
     ]
    }
   ],
   "source": [
    "times = []\n",
    "optainedP = []\n",
    "optainedQ = []\n",
    "optainedD = []\n",
    "for i in range(N.shape[0]):\n",
    "    startTime = time.time()\n",
    "    p, q,_ = BFA(N[i], E[i])\n",
    "    excutionTime = time.time()-startTime\n",
    "    optainedP.append(p)\n",
    "    optainedQ.append(q)\n",
    "    optainedD.append(d)\n",
    "    print(p, q)\n",
    "    print(excutionTime)\n",
    "    times.append(excutionTime)\n",
    "    \n"
   ]
  },
  {
   "cell_type": "code",
   "execution_count": 30,
   "metadata": {},
   "outputs": [
    {
     "name": "stdout",
     "output_type": "stream",
     "text": [
      "[0.00015783309936523438, 0.00028133392333984375, 0.0009710788726806641, 0.003265380859375, 0.013398170471191406, 0.03662753105163574, 0.19616413116455078, 0.9421553611755371, 2.386716604232788, 7.898291110992432, 43.373374462127686, 197.31491875648499, 584.6325716972351, 2.7418136596679688e-05, 2.4318695068359375e-05, 2.288818359375e-05, 2.4080276489257812e-05, 0.00020694732666015625, 2.7179718017578125e-05, 2.5033950805664062e-05, 0.0001819133758544922, 3.218650817871094e-05]\n"
     ]
    }
   ],
   "source": [
    "print(times)"
   ]
  },
  {
   "cell_type": "code",
   "execution_count": 31,
   "metadata": {},
   "outputs": [
    {
     "data": {
      "image/png": "[encoded data removed]",
      "text/plain": [
       "<Figure size 432x288 with 1 Axes>"
      ]
     },
     "metadata": {
      "needs_background": "light"
     },
     "output_type": "display_data"
    }
   ],
   "source": [
    "import matplotlib.pyplot as plt\n",
    "plt.plot(np.arange(8, 51, 2), times)\n",
    "plt.xlabel('bits count')\n",
    "plt.ylabel('time to factorize')\n",
    "plt.title('BFA')\n",
    "plt.show()"
   ]
  },
  {
   "cell_type": "code",
   "execution_count": null,
   "metadata": {},
   "outputs": [],
   "source": []
  }
 ],
 "metadata": {
  "interpreter": {
   "hash": "ea5bba8542f00edb33a2f2c19a65eca468aab768572c539b683c40a8df122633"
  },
  "kernelspec": {
   "display_name": "Python 3.9.12 ('base')",
   "language": "python",
   "name": "python3"
  },
  "language_info": {
   "codemirror_mode": {
    "name": "ipython",
    "version": 3
   },
   "file_extension": ".py",
   "mimetype": "text/x-python",
   "name": "python",
   "nbconvert_exporter": "python",
   "pygments_lexer": "ipython3",
   "version": "3.9.12"
  },
  "orig_nbformat": 4
 },
 "nbformat": 4,
 "nbformat_minor": 2
}
