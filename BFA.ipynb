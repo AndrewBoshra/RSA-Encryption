{
 "cells": [
  {
   "cell_type": "code",
   "execution_count": 1,
   "metadata": {},
   "outputs": [],
   "source": [
    "import numpy as np\n",
    "import time\n",
    "from Crypto.Util import number\n",
    "import RSA"
   ]
  },
  {
   "cell_type": "code",
   "execution_count": 2,
   "metadata": {},
   "outputs": [],
   "source": [
    "def BFA(n, e):\n",
    "    p = 2\n",
    "    while(n%p != 0):\n",
    "        p +=1\n",
    "    q = n/p\n",
    "    phi = (p-1)*(q-1)\n",
    "    d = RSA.InvertModulo(e, phi)\n",
    "    return p, q, d"
   ]
  },
  {
   "cell_type": "code",
   "execution_count": 3,
   "metadata": {},
   "outputs": [],
   "source": [
    "#generate prime numbers from size 8 bits all way up to 50 bits\n",
    "#this function genarated primes numbers between two given number of bits\n",
    "def genPrimes(start, end):\n",
    "    if (start > end):\n",
    "        temp = start\n",
    "        start = end\n",
    "        end = temp\n",
    "    primesArray = []\n",
    "    for j in range(start , end+1 , 2):\n",
    "        primesArray.append(number.getPrime(j))\n",
    "    return np.array(primesArray)"
   ]
  },
  {
   "cell_type": "code",
   "execution_count": 9,
   "metadata": {},
   "outputs": [
    {
     "name": "stdout",
     "output_type": "stream",
     "text": [
      "(22,) (22,)\n"
     ]
    }
   ],
   "source": [
    "P = genPrimes(8, 50)\n",
    "Q = genPrimes(8, 50)\n",
    "E = genPrimes(4, 47)\n",
    "print(E.shape, P.shape)\n",
    "N = P * Q"
   ]
  },
  {
   "cell_type": "code",
   "execution_count": 10,
   "metadata": {},
   "outputs": [
    {
     "name": "stdout",
     "output_type": "stream",
     "text": [
      "0.00017714500427246094\n",
      "0.0003135204315185547\n",
      "0.0012018680572509766\n",
      "0.005608081817626953\n",
      "0.014199972152709961\n",
      "0.03683948516845703\n",
      "0.12716007232666016\n",
      "0.6112000942230225\n",
      "2.2039413452148438\n",
      "10.531323671340942\n",
      "34.1945321559906\n"
     ]
    },
    {
     "ename": "KeyboardInterrupt",
     "evalue": "",
     "output_type": "error",
     "traceback": [
      "\u001b[0;31m---------------------------------------------------------------------------\u001b[0m",
      "\u001b[0;31mKeyboardInterrupt\u001b[0m                         Traceback (most recent call last)",
      "\u001b[1;32m/home/bishoy/Desktop/Cryptography&Security/project/RSA-Encryption/BFA.ipynb Cell 5'\u001b[0m in \u001b[0;36m<cell line: 2>\u001b[0;34m()\u001b[0m\n\u001b[1;32m      <a href='vscode-notebook-cell:/home/bishoy/Desktop/Cryptography%26Security/project/RSA-Encryption/BFA.ipynb#ch0000004?line=1'>2</a>\u001b[0m \u001b[39mfor\u001b[39;00m i \u001b[39min\u001b[39;00m \u001b[39mrange\u001b[39m(N\u001b[39m.\u001b[39mshape[\u001b[39m0\u001b[39m]):\n\u001b[1;32m      <a href='vscode-notebook-cell:/home/bishoy/Desktop/Cryptography%26Security/project/RSA-Encryption/BFA.ipynb#ch0000004?line=2'>3</a>\u001b[0m     startTime \u001b[39m=\u001b[39m time\u001b[39m.\u001b[39mtime()\n\u001b[0;32m----> <a href='vscode-notebook-cell:/home/bishoy/Desktop/Cryptography%26Security/project/RSA-Encryption/BFA.ipynb#ch0000004?line=3'>4</a>\u001b[0m     p, q, d \u001b[39m=\u001b[39m BFA(N[i], E[i])\n\u001b[1;32m      <a href='vscode-notebook-cell:/home/bishoy/Desktop/Cryptography%26Security/project/RSA-Encryption/BFA.ipynb#ch0000004?line=4'>5</a>\u001b[0m     excutionTime \u001b[39m=\u001b[39m time\u001b[39m.\u001b[39mtime()\u001b[39m-\u001b[39mstartTime\n\u001b[1;32m      <a href='vscode-notebook-cell:/home/bishoy/Desktop/Cryptography%26Security/project/RSA-Encryption/BFA.ipynb#ch0000004?line=5'>6</a>\u001b[0m     \u001b[39mprint\u001b[39m(excutionTime)\n",
      "\u001b[1;32m/home/bishoy/Desktop/Cryptography&Security/project/RSA-Encryption/BFA.ipynb Cell 2'\u001b[0m in \u001b[0;36mBFA\u001b[0;34m(n, e)\u001b[0m\n\u001b[1;32m      <a href='vscode-notebook-cell:/home/bishoy/Desktop/Cryptography%26Security/project/RSA-Encryption/BFA.ipynb#ch0000001?line=0'>1</a>\u001b[0m \u001b[39mdef\u001b[39;00m \u001b[39mBFA\u001b[39m(n, e):\n\u001b[1;32m      <a href='vscode-notebook-cell:/home/bishoy/Desktop/Cryptography%26Security/project/RSA-Encryption/BFA.ipynb#ch0000001?line=1'>2</a>\u001b[0m     p \u001b[39m=\u001b[39m \u001b[39m2\u001b[39m\n\u001b[0;32m----> <a href='vscode-notebook-cell:/home/bishoy/Desktop/Cryptography%26Security/project/RSA-Encryption/BFA.ipynb#ch0000001?line=2'>3</a>\u001b[0m     \u001b[39mwhile\u001b[39;00m(n\u001b[39m%\u001b[39;49mp \u001b[39m!=\u001b[39;49m \u001b[39m0\u001b[39;49m):\n\u001b[1;32m      <a href='vscode-notebook-cell:/home/bishoy/Desktop/Cryptography%26Security/project/RSA-Encryption/BFA.ipynb#ch0000001?line=3'>4</a>\u001b[0m         p \u001b[39m+\u001b[39m\u001b[39m=\u001b[39m\u001b[39m1\u001b[39m\n\u001b[1;32m      <a href='vscode-notebook-cell:/home/bishoy/Desktop/Cryptography%26Security/project/RSA-Encryption/BFA.ipynb#ch0000001?line=4'>5</a>\u001b[0m     q \u001b[39m=\u001b[39m n\u001b[39m/\u001b[39mp\n",
      "\u001b[0;31mKeyboardInterrupt\u001b[0m: "
     ]
    }
   ],
   "source": [
    "times = []\n",
    "for i in range(N.shape[0]):\n",
    "    startTime = time.time()\n",
    "    p, q, d = BFA(N[i], E[i])\n",
    "    excutionTime = time.time()-startTime\n",
    "    print(excutionTime)\n",
    "    times.append(excutionTime)\n",
    "    \n"
   ]
  },
  {
   "cell_type": "code",
   "execution_count": 11,
   "metadata": {},
   "outputs": [
    {
     "name": "stdout",
     "output_type": "stream",
     "text": [
      "[0.00017714500427246094, 0.0003135204315185547, 0.0012018680572509766, 0.005608081817626953, 0.014199972152709961, 0.03683948516845703, 0.12716007232666016, 0.6112000942230225, 2.2039413452148438, 10.531323671340942, 34.1945321559906]\n"
     ]
    }
   ],
   "source": [
    "print(times)"
   ]
  },
  {
   "cell_type": "code",
   "execution_count": null,
   "metadata": {},
   "outputs": [],
   "source": [
    "import matplotlib.pyplot as plt\n",
    "plt.plot(np.arange(8, 50, 2), times)\n",
    "plt.xlabel('bits count')\n",
    "plt.ylabel('time to encrypt 1000 messages')\n",
    "plt.title('RSA')\n",
    "plt.show()"
   ]
  }
 ],
 "metadata": {
  "interpreter": {
   "hash": "ea5bba8542f00edb33a2f2c19a65eca468aab768572c539b683c40a8df122633"
  },
  "kernelspec": {
   "display_name": "Python 3.9.12 ('base')",
   "language": "python",
   "name": "python3"
  },
  "language_info": {
   "codemirror_mode": {
    "name": "ipython",
    "version": 3
   },
   "file_extension": ".py",
   "mimetype": "text/x-python",
   "name": "python",
   "nbconvert_exporter": "python",
   "pygments_lexer": "ipython3",
   "version": "3.9.12"
  },
  "orig_nbformat": 4
 },
 "nbformat": 4,
 "nbformat_minor": 2
}
