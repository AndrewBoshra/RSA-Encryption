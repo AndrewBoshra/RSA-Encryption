{
 "cells": [
  {
   "cell_type": "code",
   "execution_count": 1,
   "metadata": {},
   "outputs": [],
   "source": [
    "import numpy as np\n",
    "import time\n",
    "from Crypto.Util import number\n",
    "import math\n",
    "import RSA"
   ]
  },
  {
   "cell_type": "code",
   "execution_count": 2,
   "metadata": {},
   "outputs": [],
   "source": [
    "def BFA(n, e):\n",
    "    p = 2\n",
    "    while(n%p != 0):\n",
    "        p += 1\n",
    "    q = n//p\n",
    "    phi = (p-1)*(q-1)\n",
    "    d = RSA.InvertModulo(e, phi)\n",
    "    return p, q, d"
   ]
  },
  {
   "cell_type": "code",
   "execution_count": 3,
   "metadata": {},
   "outputs": [],
   "source": [
    "#generate prime numbers from size 8 bits all way up to 50 bits\n",
    "#this function genarated primes numbers between two given number of bits\n",
    "def genPrimes(start, end, step):\n",
    "    if (start > end):\n",
    "        temp = start\n",
    "        start = end\n",
    "        end = temp\n",
    "    primesArray = []\n",
    "    for j in range(start , end+1 , step):\n",
    "        primesArray.append(number.getPrime(j))\n",
    "    return primesArray"
   ]
  },
  {
   "cell_type": "code",
   "execution_count": 17,
   "metadata": {},
   "outputs": [
    {
     "name": "stdout",
     "output_type": "stream",
     "text": [
      "9.012222290039062e-05\n",
      "0.0002377033233642578\n",
      "0.0010690689086914062\n",
      "0.0017194747924804688\n",
      "0.011399507522583008\n",
      "0.040964365005493164\n",
      "0.1448345184326172\n",
      "0.6988558769226074\n",
      "2.385355234146118\n",
      "10.467477560043335\n",
      "41.88689303398132\n",
      "140.98209190368652\n",
      "288.2198488712311\n",
      "1394.38902592659\n",
      "5015.014265537262\n"
     ]
    },
    {
     "ename": "KeyboardInterrupt",
     "evalue": "",
     "output_type": "error",
     "traceback": [
      "\u001b[0;31m---------------------------------------------------------------------------\u001b[0m",
      "\u001b[0;31mKeyboardInterrupt\u001b[0m                         Traceback (most recent call last)",
      "\u001b[1;32m/home/bishoy/Desktop/Cryptography&Security/project/RSA-Encryption/BFA.ipynb Cell 6'\u001b[0m in \u001b[0;36m<cell line: 2>\u001b[0;34m()\u001b[0m\n\u001b[1;32m     <a href='vscode-notebook-cell:/home/bishoy/Desktop/Cryptography%26Security/project/RSA-Encryption/BFA.ipynb#ch0000005?line=12'>13</a>\u001b[0m     f\u001b[39m.\u001b[39mwrite(\u001b[39m\"\u001b[39m\u001b[39m\\n\u001b[39;00m\u001b[39m=========================\u001b[39m\u001b[39m\"\u001b[39m)\n\u001b[1;32m     <a href='vscode-notebook-cell:/home/bishoy/Desktop/Cryptography%26Security/project/RSA-Encryption/BFA.ipynb#ch0000005?line=13'>14</a>\u001b[0m starttime \u001b[39m=\u001b[39m time\u001b[39m.\u001b[39mtime()\n\u001b[0;32m---> <a href='vscode-notebook-cell:/home/bishoy/Desktop/Cryptography%26Security/project/RSA-Encryption/BFA.ipynb#ch0000005?line=14'>15</a>\u001b[0m resultedP, resultedQ, resultedD \u001b[39m=\u001b[39m  BFA(n, e)\n\u001b[1;32m     <a href='vscode-notebook-cell:/home/bishoy/Desktop/Cryptography%26Security/project/RSA-Encryption/BFA.ipynb#ch0000005?line=15'>16</a>\u001b[0m executiontime \u001b[39m=\u001b[39m time\u001b[39m.\u001b[39mtime()\u001b[39m-\u001b[39mstarttime\n\u001b[1;32m     <a href='vscode-notebook-cell:/home/bishoy/Desktop/Cryptography%26Security/project/RSA-Encryption/BFA.ipynb#ch0000005?line=16'>17</a>\u001b[0m times\u001b[39m.\u001b[39mappend(executiontime)\n",
      "\u001b[1;32m/home/bishoy/Desktop/Cryptography&Security/project/RSA-Encryption/BFA.ipynb Cell 2'\u001b[0m in \u001b[0;36mBFA\u001b[0;34m(n, e)\u001b[0m\n\u001b[1;32m      <a href='vscode-notebook-cell:/home/bishoy/Desktop/Cryptography%26Security/project/RSA-Encryption/BFA.ipynb#ch0000001?line=0'>1</a>\u001b[0m \u001b[39mdef\u001b[39;00m \u001b[39mBFA\u001b[39m(n, e):\n\u001b[1;32m      <a href='vscode-notebook-cell:/home/bishoy/Desktop/Cryptography%26Security/project/RSA-Encryption/BFA.ipynb#ch0000001?line=1'>2</a>\u001b[0m     p \u001b[39m=\u001b[39m \u001b[39m2\u001b[39m\n\u001b[0;32m----> <a href='vscode-notebook-cell:/home/bishoy/Desktop/Cryptography%26Security/project/RSA-Encryption/BFA.ipynb#ch0000001?line=2'>3</a>\u001b[0m     \u001b[39mwhile\u001b[39;00m(n\u001b[39m%\u001b[39;49mp \u001b[39m!=\u001b[39m \u001b[39m0\u001b[39m):\n\u001b[1;32m      <a href='vscode-notebook-cell:/home/bishoy/Desktop/Cryptography%26Security/project/RSA-Encryption/BFA.ipynb#ch0000001?line=3'>4</a>\u001b[0m         p \u001b[39m+\u001b[39m\u001b[39m=\u001b[39m \u001b[39m1\u001b[39m\n\u001b[1;32m      <a href='vscode-notebook-cell:/home/bishoy/Desktop/Cryptography%26Security/project/RSA-Encryption/BFA.ipynb#ch0000001?line=4'>5</a>\u001b[0m     q \u001b[39m=\u001b[39m n\u001b[39m/\u001b[39m\u001b[39m/\u001b[39mp\n",
      "\u001b[0;31mKeyboardInterrupt\u001b[0m: "
     ]
    }
   ],
   "source": [
    "times = []\n",
    "for i in range(8, 50, 2):\n",
    "    p = number.getPrime(i)\n",
    "    q = number.getPrime(i)\n",
    "    e = number.getPrime(i-4)\n",
    "    n = p*q\n",
    "    with open('keys.txt', 'a') as f:\n",
    "        f.write(f\"\\np: {p}\")\n",
    "        f.write(f\"\\nq: {q}\")\n",
    "        f.write(f\"\\ne: {e}\")\n",
    "        f.write(f\"\\nn: {n}\")\n",
    "        f.write(f\"\\nkey size: {i*2}\")\n",
    "        f.write(\"\\n=========================\")\n",
    "    starttime = time.time()\n",
    "    resultedP, resultedQ, resultedD =  BFA(n, e)\n",
    "    executiontime = time.time()-starttime\n",
    "    times.append(executiontime)\n",
    "    with open('BFAresults.txt', 'a') as f:\n",
    "        f.write(f\"\\nresultedP: {resultedP}\")\n",
    "        f.write(f\"\\nresultedQ: {resultedQ}\")\n",
    "        f.write(f\"\\nresultedD: {resultedD}\")\n",
    "        f.write(f\"\\nexecutiontime: {executiontime}\")\n",
    "        f.write(f\"\\nkey size: {i*2}\")\n",
    "        f.write(\"\\n=========================\")\n",
    "    print(executiontime)"
   ]
  },
  {
   "cell_type": "code",
   "execution_count": 20,
   "metadata": {},
   "outputs": [
    {
     "data": {
      "image/png": "[encoded data removed]",
      "text/plain": [
       "<Figure size 432x288 with 1 Axes>"
      ]
     },
     "metadata": {
      "needs_background": "light"
     },
     "output_type": "display_data"
    }
   ],
   "source": [
    "newtimes = times\n",
    "import matplotlib.pyplot as plt\n",
    "plt.plot(np.arange(16, 73, 4), newtimes)\n",
    "plt.xlabel('bits count')\n",
    "plt.ylabel('time to factorize')\n",
    "plt.title('BFA')\n",
    "plt.show()"
   ]
  },
  {
   "cell_type": "code",
   "execution_count": null,
   "metadata": {},
   "outputs": [],
   "source": []
  }
 ],
 "metadata": {
  "interpreter": {
   "hash": "ea5bba8542f00edb33a2f2c19a65eca468aab768572c539b683c40a8df122633"
  },
  "kernelspec": {
   "display_name": "Python 3.9.12 ('base')",
   "language": "python",
   "name": "python3"
  },
  "language_info": {
   "codemirror_mode": {
    "name": "ipython",
    "version": 3
   },
   "file_extension": ".py",
   "mimetype": "text/x-python",
   "name": "python",
   "nbconvert_exporter": "python",
   "pygments_lexer": "ipython3",
   "version": "3.9.12"
  },
  "orig_nbformat": 4
 },
 "nbformat": 4,
 "nbformat_minor": 2
}
